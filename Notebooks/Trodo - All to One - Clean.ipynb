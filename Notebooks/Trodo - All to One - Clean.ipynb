{
 "cells": [
  {
   "cell_type": "markdown",
   "metadata": {},
   "source": [
    "# Fetching code from repo"
   ]
  },
  {
   "cell_type": "code",
   "execution_count": null,
   "metadata": {
    "trusted": true
   },
   "outputs": [],
   "source": [
    "import os\n",
    "\n",
    "root_name = \"trodo\"\n",
    "\n",
    "if not (os.path.exists(root_name) or os.getcwd().lower().endswith(root_name)):\n",
    "    !git clone https://github.com/Allliance/trodo\n",
    "\n",
    "if not os.getcwd().lower().endswith(root_name):\n",
    "    %cd {root_name}\n",
    "!git pull\n",
    "\n",
    "import src"
   ]
  },
  {
   "cell_type": "markdown",
   "metadata": {},
   "source": [
    "# Configurations"
   ]
  },
  {
   "cell_type": "code",
   "execution_count": null,
   "metadata": {
    "_cell_guid": "b1076dfc-b9ad-4769-8c92-a6c4dae69d19",
    "_uuid": "8f2839f25d086af736a60e9eeb907d3b93b6e0e5",
    "trusted": true
   },
   "outputs": [],
   "source": [
    "%load_ext autoreload\n",
    "%autoreload 2\n",
    "\n",
    "import torch\n",
    "import gc\n",
    "import numpy as np\n",
    "\n",
    "mapping = \"All to One\"\n",
    "dataset = ['cifar10', 'mnist', 'gtsrb', 'cifar100', 'pubfig'][0]\n",
    "\n",
    "batch_size = 8 if dataset == 'pubfig' else 256\n",
    "\n",
    "arch = \"resnet\"\n",
    "\n",
    "device = torch.device('cuda:0' if torch.cuda.is_available() else 'cpu')\n",
    "print('Using device:', device)"
   ]
  },
  {
   "cell_type": "code",
   "execution_count": null,
   "metadata": {
    "trusted": true
   },
   "outputs": [],
   "source": [
    "# Loading constants\n",
    "from src.constants import NORM_MEAN, NORM_STD\n",
    "from src.constants import num_classes as num_classes_dict\n",
    "\n",
    "# Loading Model architecture\n",
    "if arch == 'preact':\n",
    "    from src.models.loaders import load_preact as model_loader\n",
    "elif arch == 'resnet':\n",
    "    from src.models.loaders import load_resnet as model_loader\n",
    "else:\n",
    "    raise NotImplementedError(\"This architecture is not supported\")"
   ]
  },
  {
   "cell_type": "markdown",
   "metadata": {},
   "source": [
    "# Preparations"
   ]
  },
  {
   "cell_type": "markdown",
   "metadata": {},
   "source": [
    "## Loading Model"
   ]
  },
  {
   "cell_type": "code",
   "execution_count": null,
   "metadata": {
    "trusted": true
   },
   "outputs": [],
   "source": [
    "!mkdir models\n",
    "%cd models\n",
    "!pip install gdown\n",
    "import gdown\n",
    "gdown.download_folder(\"https://drive.google.com/drive/folders/1zocvSNKke4XbXyfn9-vbxzFH_xOGy0Qs\")\n",
    "!tar -xf A2O/clean.tar\n",
    "!mv content/clean A2O/clean\n",
    "!rm -r content\n",
    "!rm A2O/clean.tar\n",
    "!tar -xf A2O/trojaned.tar\n",
    "!mv content/trojaned A2O/trojaned\n",
    "!rm -r content\n",
    "!rm A2O/trojaned.tar\n",
    "!ls A2O\n",
    "%cd .."
   ]
  },
  {
   "cell_type": "code",
   "execution_count": null,
   "metadata": {
    "trusted": true
   },
   "outputs": [],
   "source": [
    "from src.modelset import ModelDataset\n",
    "\n",
    "num_classes = num_classes_dict[dataset]\n",
    "\n",
    "final_model_loader = lambda x, meta_data: model_loader(x,\n",
    "                                                       num_classes=num_classes,\n",
    "                                                       mean=NORM_MEAN[dataset],\n",
    "                                                       std=NORM_STD[dataset],\n",
    "                                                       normalize=True,\n",
    "                                                       meta_data=meta_data)\n",
    "\n",
    "clean_root = './models/A2O/clean'\n",
    "trojaned_root = './models/A2O/trojaned'\n",
    "\n",
    "test_modelset = ModelDataset(clean_root,\n",
    "                             trojaned_root,\n",
    "                             final_model_loader\n",
    "                             )\n",
    "\n",
    "print(\"No. clean models in test set:\", len([_ for m in test_modelset.models_data if m['label'] == 0]))\n",
    "print(\"No. trojaned models in test set:\", len([_ for m in test_modelset.models_data if m['label'] == 0]))"
   ]
  },
  {
   "cell_type": "markdown",
   "metadata": {},
   "source": [
    "# Experiments"
   ]
  },
  {
   "cell_type": "markdown",
   "metadata": {},
   "source": [
    "## Validation"
   ]
  },
  {
   "cell_type": "code",
   "execution_count": null,
   "metadata": {
    "trusted": true
   },
   "outputs": [],
   "source": [
    "from src.data.loaders import get_near_ood_loader\n",
    "from src.visualization import visualize_samples\n",
    "\n",
    "def get_dataloader():\n",
    "    dataloader = get_near_ood_loader(source_dataset=dataset, batch_size=batch_size)\n",
    "    # print(\"Size of dataset:\", len(dataloader.dataset))\n",
    "    return dataloader\n",
    "\n",
    "dataloader = get_dataloader()\n",
    "print(len(dataloader.dataset))\n",
    "# visualize_samples(dataloader, 1)"
   ]
  },
  {
   "cell_type": "markdown",
   "metadata": {},
   "source": [
    "# Testing"
   ]
  },
  {
   "cell_type": "code",
   "execution_count": null,
   "metadata": {
    "trusted": true
   },
   "outputs": [],
   "source": [
    "from src.evaluate import evaluate_modelset, mean_id_score_diff\n",
    "\n",
    "evaluate_modelset(test_modelset,\n",
    "                  signature_function=mean_id_score_diff,\n",
    "                  signature_function_kwargs={\n",
    "                    'eps': 2/255,\n",
    "                    'device': device,\n",
    "                    'verbose': True,\n",
    "                  },\n",
    "                  get_dataloader_func=get_dataloader,\n",
    "                  progress=False,)"
   ]
  }
 ],
 "metadata": {
  "kaggle": {
   "accelerator": "gpu",
   "dataSources": [],
   "dockerImageVersionId": 30683,
   "isGpuEnabled": true,
   "isInternetEnabled": true,
   "language": "python",
   "sourceType": "notebook"
  },
  "kernelspec": {
   "display_name": "Python 3",
   "language": "python",
   "name": "python3"
  },
  "language_info": {
   "codemirror_mode": {
    "name": "ipython",
    "version": 3
   },
   "file_extension": ".py",
   "mimetype": "text/x-python",
   "name": "python",
   "nbconvert_exporter": "python",
   "pygments_lexer": "ipython3",
   "version": "3.10.13"
  }
 },
 "nbformat": 4,
 "nbformat_minor": 4
}
